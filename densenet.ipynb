{
  "nbformat": 4,
  "nbformat_minor": 0,
  "metadata": {
    "colab": {
      "name": "covid_prediction.ipynb",
      "provenance": []
    },
    "kernelspec": {
      "display_name": "Python 3",
      "name": "python3"
    }
  },
  "cells": [
    {
      "cell_type": "code",
      "metadata": {
        "id": "IT4uBuGpyYcf",
        "outputId": "c6d0b49a-9644-4fcd-8fb9-82f11a397cdb",
        "colab": {
          "base_uri": "https://localhost:8080/",
          "height": 34
        }
      },
      "source": [
        "from google.colab import drive\n",
        "drive.mount(\"/content/drive\")"
      ],
      "execution_count": null,
      "outputs": [
        {
          "output_type": "stream",
          "text": [
            "Mounted at /content/drive\n"
          ],
          "name": "stdout"
        }
      ]
    },
    {
      "cell_type": "code",
      "metadata": {
        "id": "KBvh3scWvEuq"
      },
      "source": [
        "import os\n",
        "import json\n",
        "import numpy as np\n",
        "import pandas as pd\n",
        "import keras\n",
        "from keras import layers\n",
        "from keras.applications import DenseNet121\n",
        "from keras.callbacks import Callback, ModelCheckpoint\n",
        "from keras.preprocessing.image import ImageDataGenerator\n",
        "from keras.layers import Dense, Dropout, Activation, Flatten\n",
        "from keras.layers import Conv2D, MaxPooling2D\n",
        "from keras.models import Sequential\n",
        "from sklearn.model_selection import train_test_split\n",
        "from sklearn.metrics import confusion_matrix, f1_score, precision_score, recall_score"
      ],
      "execution_count": null,
      "outputs": []
    },
    {
      "cell_type": "code",
      "metadata": {
        "id": "Y9JWkMHj3h-Y"
      },
      "source": [
        "os.environ[\"TF_CPP_MIN_LOG_LEVEL\"] = \"2\""
      ],
      "execution_count": null,
      "outputs": []
    },
    {
      "cell_type": "code",
      "metadata": {
        "id": "aT8hmHsD3pSO"
      },
      "source": [
        "x_train = np.load('/content/drive/My Drive/data.npy')\n",
        "x_train = np.repeat(x_train[..., np.newaxis], 3, -1)\n",
        "y_train = np.load('/content/drive/My Drive/lable.npy')\n",
        "y_train = keras.utils.to_categorical(y_train, num_classes = 2)"
      ],
      "execution_count": null,
      "outputs": []
    },
    {
      "cell_type": "code",
      "metadata": {
        "id": "syXsbxAG3qMA",
        "outputId": "4310614c-1cb4-4ba3-c723-fcf6908cf0e1",
        "colab": {
          "base_uri": "https://localhost:8080/",
          "height": 51
        }
      },
      "source": [
        "print(x_train.shape)\n",
        "print(y_train.shape)"
      ],
      "execution_count": null,
      "outputs": [
        {
          "output_type": "stream",
          "text": [
            "(1309, 224, 224, 3)\n",
            "(1309, 2)\n"
          ],
          "name": "stdout"
        }
      ]
    },
    {
      "cell_type": "code",
      "metadata": {
        "id": "UKlzU28Xi2lT"
      },
      "source": [
        "x_train = x_train.astype('float32')\n",
        "x_train /= 255"
      ],
      "execution_count": null,
      "outputs": []
    },
    {
      "cell_type": "code",
      "metadata": {
        "id": "w1kPHt58i8OD",
        "outputId": "e5b56f6d-324d-4261-a6fb-0286560e49cd",
        "colab": {
          "base_uri": "https://localhost:8080/",
          "height": 326
        }
      },
      "source": [
        "densenet = DenseNet121(\n",
        "    weights='imagenet',\n",
        "    include_top=False,\n",
        "    input_shape=(224, 224, 3)\n",
        ")\n",
        "model = Sequential()\n",
        "model.add(densenet)\n",
        "model.add(layers.GlobalAveragePooling2D())\n",
        "model.add(layers.Dense(2, activation='softmax'))\n",
        "model.compile(loss='categorical_crossentropy',\n",
        "              optimizer='adam',\n",
        "              metrics=['accuracy'])\n",
        "\n",
        "print(model.summary())"
      ],
      "execution_count": null,
      "outputs": [
        {
          "output_type": "stream",
          "text": [
            "Downloading data from https://storage.googleapis.com/tensorflow/keras-applications/densenet/densenet121_weights_tf_dim_ordering_tf_kernels_notop.h5\n",
            "29089792/29084464 [==============================] - 1s 0us/step\n",
            "Model: \"sequential\"\n",
            "_________________________________________________________________\n",
            "Layer (type)                 Output Shape              Param #   \n",
            "=================================================================\n",
            "densenet121 (Functional)     (None, 7, 7, 1024)        7037504   \n",
            "_________________________________________________________________\n",
            "global_average_pooling2d (Gl (None, 1024)              0         \n",
            "_________________________________________________________________\n",
            "dense (Dense)                (None, 2)                 2050      \n",
            "=================================================================\n",
            "Total params: 7,039,554\n",
            "Trainable params: 6,955,906\n",
            "Non-trainable params: 83,648\n",
            "_________________________________________________________________\n",
            "None\n"
          ],
          "name": "stdout"
        }
      ]
    },
    {
      "cell_type": "code",
      "metadata": {
        "id": "jwnwCUGai-dq",
        "outputId": "1d27ed40-472a-4694-a5ce-17306afb5f3b",
        "colab": {
          "base_uri": "https://localhost:8080/",
          "height": 1000
        }
      },
      "source": [
        "model.compile(\n",
        "    loss='categorical_crossentropy',\n",
        "    optimizer='adam',\n",
        "    metrics=['accuracy']\n",
        ")\n",
        "\n",
        "checkpoint = ModelCheckpoint(\n",
        "    'model.h5', \n",
        "    monitor='val_acc', \n",
        "    verbose=1, \n",
        "    save_best_only=True, \n",
        "    save_weights_only=False,\n",
        "    mode='auto'\n",
        ")\n",
        "\n",
        "history = model.fit(\n",
        "    x=x_train,\n",
        "    y=y_train,\n",
        "    batch_size=64,\n",
        "    epochs=100,\n",
        "    validation_split=0.1\n",
        ")\n"
      ],
      "execution_count": null,
      "outputs": [
        {
          "output_type": "stream",
          "text": [
            "Epoch 1/100\n",
            "19/19 [==============================] - 829s 44s/step - loss: 0.6084 - accuracy: 0.7895 - val_loss: 4.1007 - val_accuracy: 0.2214\n",
            "Epoch 2/100\n",
            "19/19 [==============================] - 827s 44s/step - loss: 0.3581 - accuracy: 0.8582 - val_loss: 3.4767 - val_accuracy: 0.2214\n",
            "Epoch 3/100\n",
            "19/19 [==============================] - 809s 43s/step - loss: 0.2431 - accuracy: 0.9007 - val_loss: 7.1896 - val_accuracy: 0.2214\n",
            "Epoch 4/100\n",
            "19/19 [==============================] - 812s 43s/step - loss: 0.1397 - accuracy: 0.9508 - val_loss: 3.0449 - val_accuracy: 0.4122\n",
            "Epoch 5/100\n",
            "19/19 [==============================] - 822s 43s/step - loss: 0.1286 - accuracy: 0.9533 - val_loss: 1.9471 - val_accuracy: 0.5878\n",
            "Epoch 6/100\n",
            "19/19 [==============================] - 815s 43s/step - loss: 0.0783 - accuracy: 0.9728 - val_loss: 3.2692 - val_accuracy: 0.4504\n",
            "Epoch 7/100\n",
            "19/19 [==============================] - 816s 43s/step - loss: 0.1543 - accuracy: 0.9482 - val_loss: 0.9970 - val_accuracy: 0.8092\n",
            "Epoch 8/100\n",
            "19/19 [==============================] - 814s 43s/step - loss: 0.1212 - accuracy: 0.9559 - val_loss: 1.5973 - val_accuracy: 0.7863\n",
            "Epoch 9/100\n",
            "19/19 [==============================] - 820s 43s/step - loss: 0.1073 - accuracy: 0.9601 - val_loss: 1.0304 - val_accuracy: 0.8168\n",
            "Epoch 10/100\n",
            "19/19 [==============================] - 822s 43s/step - loss: 0.0751 - accuracy: 0.9711 - val_loss: 1.7124 - val_accuracy: 0.8015\n",
            "Epoch 11/100\n",
            "19/19 [==============================] - 818s 43s/step - loss: 0.0305 - accuracy: 0.9915 - val_loss: 1.2485 - val_accuracy: 0.7557\n",
            "Epoch 12/100\n",
            "19/19 [==============================] - 818s 43s/step - loss: 0.0293 - accuracy: 0.9915 - val_loss: 0.4809 - val_accuracy: 0.8550\n",
            "Epoch 13/100\n",
            "19/19 [==============================] - 824s 43s/step - loss: 0.0586 - accuracy: 0.9813 - val_loss: 0.8278 - val_accuracy: 0.8092\n",
            "Epoch 14/100\n",
            "19/19 [==============================] - 818s 43s/step - loss: 0.0939 - accuracy: 0.9677 - val_loss: 4.6208 - val_accuracy: 0.4275\n",
            "Epoch 15/100\n",
            "19/19 [==============================] - 818s 43s/step - loss: 0.0743 - accuracy: 0.9762 - val_loss: 2.6382 - val_accuracy: 0.6565\n",
            "Epoch 16/100\n",
            "19/19 [==============================] - 810s 43s/step - loss: 0.0487 - accuracy: 0.9813 - val_loss: 3.0007 - val_accuracy: 0.5420\n",
            "Epoch 17/100\n",
            "19/19 [==============================] - 803s 42s/step - loss: 0.0156 - accuracy: 0.9966 - val_loss: 4.6942 - val_accuracy: 0.4427\n",
            "Epoch 18/100\n",
            "19/19 [==============================] - 811s 43s/step - loss: 0.0078 - accuracy: 0.9983 - val_loss: 2.7932 - val_accuracy: 0.5496\n",
            "Epoch 19/100\n",
            "19/19 [==============================] - 796s 42s/step - loss: 0.0029 - accuracy: 0.9992 - val_loss: 2.0075 - val_accuracy: 0.6107\n",
            "Epoch 20/100\n",
            "19/19 [==============================] - 798s 42s/step - loss: 0.0024 - accuracy: 0.9992 - val_loss: 0.8615 - val_accuracy: 0.7710\n",
            "Epoch 21/100\n",
            "19/19 [==============================] - 799s 42s/step - loss: 0.0026 - accuracy: 0.9983 - val_loss: 0.3429 - val_accuracy: 0.8702\n",
            "Epoch 22/100\n",
            "19/19 [==============================] - 806s 42s/step - loss: 0.0037 - accuracy: 0.9983 - val_loss: 0.1084 - val_accuracy: 0.9389\n",
            "Epoch 23/100\n",
            "19/19 [==============================] - 793s 42s/step - loss: 0.0014 - accuracy: 1.0000 - val_loss: 0.0289 - val_accuracy: 0.9924\n",
            "Epoch 24/100\n",
            "19/19 [==============================] - 796s 42s/step - loss: 0.0029 - accuracy: 0.9983 - val_loss: 0.0241 - val_accuracy: 0.9924\n",
            "Epoch 25/100\n",
            "19/19 [==============================] - 801s 42s/step - loss: 0.0022 - accuracy: 0.9983 - val_loss: 0.0157 - val_accuracy: 0.9924\n",
            "Epoch 26/100\n",
            "19/19 [==============================] - 796s 42s/step - loss: 0.0018 - accuracy: 0.9983 - val_loss: 0.0122 - val_accuracy: 0.9924\n",
            "Epoch 27/100\n",
            "19/19 [==============================] - 808s 43s/step - loss: 0.0024 - accuracy: 0.9983 - val_loss: 0.0084 - val_accuracy: 0.9924\n",
            "Epoch 28/100\n",
            "19/19 [==============================] - 800s 42s/step - loss: 0.0024 - accuracy: 0.9983 - val_loss: 0.0143 - val_accuracy: 0.9924\n",
            "Epoch 29/100\n",
            "19/19 [==============================] - 815s 43s/step - loss: 0.0017 - accuracy: 0.9992 - val_loss: 0.0156 - val_accuracy: 0.9924\n",
            "Epoch 30/100\n",
            " 9/19 [=============>................] - ETA: 6:37 - loss: 0.0012 - accuracy: 1.0000"
          ],
          "name": "stdout"
        }
      ]
    },
    {
      "cell_type": "code",
      "metadata": {
        "id": "48rIErpUjJdS"
      },
      "source": [
        "model.save_weights(\"densenet_weights.h5\")"
      ],
      "execution_count": null,
      "outputs": []
    },
    {
      "cell_type": "code",
      "metadata": {
        "id": "1yn9ox-T3y4A",
        "outputId": "1f8376dd-5d7f-4905-f582-f5d7a7ea821b",
        "colab": {
          "base_uri": "https://localhost:8080/",
          "height": 34
        }
      },
      "source": [
        "!ls"
      ],
      "execution_count": null,
      "outputs": [
        {
          "output_type": "stream",
          "text": [
            "densenet_weights.h5  drive  sample_data\n"
          ],
          "name": "stdout"
        }
      ]
    },
    {
      "cell_type": "code",
      "metadata": {
        "id": "bxTulcX3sRy3",
        "outputId": "b9047fc2-605a-400a-a8eb-79ce54607d49",
        "colab": {
          "base_uri": "https://localhost:8080/",
          "height": 34
        }
      },
      "source": [
        "from google.colab import files\n",
        "files.download('densenet_weights.h5') "
      ],
      "execution_count": null,
      "outputs": [
        {
          "output_type": "display_data",
          "data": {
            "application/javascript": [
              "\n",
              "    async function download(id, filename, size) {\n",
              "      if (!google.colab.kernel.accessAllowed) {\n",
              "        return;\n",
              "      }\n",
              "      const div = document.createElement('div');\n",
              "      const label = document.createElement('label');\n",
              "      label.textContent = `Downloading \"${filename}\": `;\n",
              "      div.appendChild(label);\n",
              "      const progress = document.createElement('progress');\n",
              "      progress.max = size;\n",
              "      div.appendChild(progress);\n",
              "      document.body.appendChild(div);\n",
              "\n",
              "      const buffers = [];\n",
              "      let downloaded = 0;\n",
              "\n",
              "      const channel = await google.colab.kernel.comms.open(id);\n",
              "      // Send a message to notify the kernel that we're ready.\n",
              "      channel.send({})\n",
              "\n",
              "      for await (const message of channel.messages) {\n",
              "        // Send a message to notify the kernel that we're ready.\n",
              "        channel.send({})\n",
              "        if (message.buffers) {\n",
              "          for (const buffer of message.buffers) {\n",
              "            buffers.push(buffer);\n",
              "            downloaded += buffer.byteLength;\n",
              "            progress.value = downloaded;\n",
              "          }\n",
              "        }\n",
              "      }\n",
              "      const blob = new Blob(buffers, {type: 'application/binary'});\n",
              "      const a = document.createElement('a');\n",
              "      a.href = window.URL.createObjectURL(blob);\n",
              "      a.download = filename;\n",
              "      div.appendChild(a);\n",
              "      a.click();\n",
              "      div.remove();\n",
              "    }\n",
              "  "
            ],
            "text/plain": [
              "<IPython.core.display.Javascript object>"
            ]
          },
          "metadata": {
            "tags": []
          }
        },
        {
          "output_type": "display_data",
          "data": {
            "application/javascript": [
              "download(\"download_feaf9fe5-92cb-4527-9a00-5a65f90904aa\", \"densenet_weights.h5\", 28642304)"
            ],
            "text/plain": [
              "<IPython.core.display.Javascript object>"
            ]
          },
          "metadata": {
            "tags": []
          }
        }
      ]
    },
    {
      "cell_type": "code",
      "metadata": {
        "id": "Ln4TYjPStQPx",
        "outputId": "d62b92af-a4e0-4707-aa7f-eb578be4267b",
        "colab": {
          "base_uri": "https://localhost:8080/",
          "height": 34
        }
      },
      "source": [
        "x_test = np.load('/content/drive/My Drive/test_images.npy')\n",
        "x_test = np.repeat(x_test[..., np.newaxis], 3, -1)\n",
        "y_test = np.load('/content/drive/My Drive/test_labels.npy')\n",
        "x_test = x_test.astype('float32')\n",
        "x_test /= 255\n",
        "x_test.shape"
      ],
      "execution_count": null,
      "outputs": [
        {
          "output_type": "execute_result",
          "data": {
            "text/plain": [
              "(98, 224, 224, 3)"
            ]
          },
          "metadata": {
            "tags": []
          },
          "execution_count": 12
        }
      ]
    },
    {
      "cell_type": "code",
      "metadata": {
        "id": "uJXxTyi_i1TF",
        "outputId": "a77383f7-3c9c-48eb-bc1a-38d2b315a9be",
        "colab": {
          "base_uri": "https://localhost:8080/",
          "height": 139
        }
      },
      "source": [
        "result = model.predict_classes(x_test)\n",
        "print(result)"
      ],
      "execution_count": null,
      "outputs": [
        {
          "output_type": "stream",
          "text": [
            "WARNING:tensorflow:From <ipython-input-13-8cc46a0b60b8>:1: Sequential.predict_classes (from tensorflow.python.keras.engine.sequential) is deprecated and will be removed after 2021-01-01.\n",
            "Instructions for updating:\n",
            "Please use instead:* `np.argmax(model.predict(x), axis=-1)`,   if your model does multi-class classification   (e.g. if it uses a `softmax` last-layer activation).* `(model.predict(x) > 0.5).astype(\"int32\")`,   if your model does binary classification   (e.g. if it uses a `sigmoid` last-layer activation).\n",
            "[1 1 1 1 1 1 1 1 1 1 1 1 1 1 1 1 1 1 1 1 1 1 1 1 1 1 1 1 1 1 1 1 1 1 1 1 1\n",
            " 1 1 1 1 1 1 1 1 1 1 1 1 1 1 1 1 1 1 1 1 1 1 1 1 1 1 1 1 1 1 1 1 1 1 1 1 1\n",
            " 1 1 1 1 1 1 1 1 1 1 1 1 1 1 1 1 1 1 1 1 1 1 1 1]\n"
          ],
          "name": "stdout"
        }
      ]
    },
    {
      "cell_type": "code",
      "metadata": {
        "id": "cvZtrtNSi470"
      },
      "source": [
        ""
      ],
      "execution_count": null,
      "outputs": []
    }
  ]
}