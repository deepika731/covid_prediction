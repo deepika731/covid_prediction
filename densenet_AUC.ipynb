{
  "nbformat": 4,
  "nbformat_minor": 0,
  "metadata": {
    "colab": {
      "name": "covid_prediction.ipynb",
      "provenance": []
    },
    "kernelspec": {
      "display_name": "Python 3",
      "name": "python3"
    }
  },
  "cells": [
    {
      "cell_type": "code",
      "metadata": {
        "id": "IT4uBuGpyYcf",
        "outputId": "01ed9311-a935-4cce-b14b-babe235970a4",
        "colab": {
          "base_uri": "https://localhost:8080/",
          "height": 34
        }
      },
      "source": [
        "from google.colab import drive\n",
        "drive.mount(\"/content/drive\")"
      ],
      "execution_count": 1,
      "outputs": [
        {
          "output_type": "stream",
          "text": [
            "Drive already mounted at /content/drive; to attempt to forcibly remount, call drive.mount(\"/content/drive\", force_remount=True).\n"
          ],
          "name": "stdout"
        }
      ]
    },
    {
      "cell_type": "code",
      "metadata": {
        "id": "KBvh3scWvEuq"
      },
      "source": [
        "import os\n",
        "import json\n",
        "import numpy as np\n",
        "import pandas as pd\n",
        "import keras\n",
        "from keras import layers\n",
        "from keras.applications import DenseNet121\n",
        "from keras.callbacks import Callback, ModelCheckpoint\n",
        "from keras.preprocessing.image import ImageDataGenerator\n",
        "from keras.layers import Dense, Dropout, Activation, Flatten\n",
        "from keras.layers import Conv2D, MaxPooling2D\n",
        "from keras.models import Sequential\n",
        "from sklearn.model_selection import train_test_split\n",
        "from sklearn.metrics import confusion_matrix, f1_score, precision_score, recall_score"
      ],
      "execution_count": 2,
      "outputs": []
    },
    {
      "cell_type": "code",
      "metadata": {
        "id": "Y9JWkMHj3h-Y"
      },
      "source": [
        "os.environ[\"TF_CPP_MIN_LOG_LEVEL\"] = \"2\""
      ],
      "execution_count": 3,
      "outputs": []
    },
    {
      "cell_type": "code",
      "metadata": {
        "id": "aT8hmHsD3pSO"
      },
      "source": [
        "x_train = np.load('/content/drive/My Drive/data.npy')\n",
        "x_train = np.repeat(x_train[..., np.newaxis], 3, -1)\n",
        "y_train = np.load('/content/drive/My Drive/lable.npy')\n",
        "y_train = keras.utils.to_categorical(y_train, num_classes = 2)"
      ],
      "execution_count": 4,
      "outputs": []
    },
    {
      "cell_type": "code",
      "metadata": {
        "id": "syXsbxAG3qMA",
        "outputId": "89fd8d90-6737-44b1-a481-0d08f632547d",
        "colab": {
          "base_uri": "https://localhost:8080/",
          "height": 51
        }
      },
      "source": [
        "print(x_train.shape)\n",
        "print(y_train.shape)"
      ],
      "execution_count": 5,
      "outputs": [
        {
          "output_type": "stream",
          "text": [
            "(1309, 224, 224, 3)\n",
            "(1309, 2)\n"
          ],
          "name": "stdout"
        }
      ]
    },
    {
      "cell_type": "code",
      "metadata": {
        "id": "UKlzU28Xi2lT"
      },
      "source": [
        "\n",
        "x_train = x_train.astype('float32')\n",
        "x_train /= 255"
      ],
      "execution_count": 6,
      "outputs": []
    },
    {
      "cell_type": "code",
      "metadata": {
        "id": "w1kPHt58i8OD",
        "outputId": "8b89eef5-5a8b-4820-bdb2-278a03c51607",
        "colab": {
          "base_uri": "https://localhost:8080/",
          "height": 272
        }
      },
      "source": [
        "densenet = DenseNet121(\n",
        "    weights='imagenet',\n",
        "    include_top=False,\n",
        "    input_shape=(224, 224, 3)\n",
        ")\n",
        "model = Sequential()\n",
        "model.add(densenet)\n",
        "model.add(layers.GlobalAveragePooling2D())\n",
        "model.add(layers.Dense(2, activation='softmax'))\n",
        "model.compile(loss='categorical_crossentropy',\n",
        "              optimizer='adam',\n",
        "              metrics=['AUC'])\n",
        "\n",
        "print(model.summary())"
      ],
      "execution_count": 7,
      "outputs": [
        {
          "output_type": "stream",
          "text": [
            "Model: \"sequential\"\n",
            "_________________________________________________________________\n",
            "Layer (type)                 Output Shape              Param #   \n",
            "=================================================================\n",
            "densenet121 (Functional)     (None, 7, 7, 1024)        7037504   \n",
            "_________________________________________________________________\n",
            "global_average_pooling2d (Gl (None, 1024)              0         \n",
            "_________________________________________________________________\n",
            "dense (Dense)                (None, 2)                 2050      \n",
            "=================================================================\n",
            "Total params: 7,039,554\n",
            "Trainable params: 6,955,906\n",
            "Non-trainable params: 83,648\n",
            "_________________________________________________________________\n",
            "None\n"
          ],
          "name": "stdout"
        }
      ]
    },
    {
      "cell_type": "code",
      "metadata": {
        "id": "jwnwCUGai-dq",
        "outputId": "cba5a0f0-c037-4343-e1f6-081a0198ea59",
        "colab": {
          "base_uri": "https://localhost:8080/",
          "height": 697
        }
      },
      "source": [
        "model.compile(\n",
        "    loss='categorical_crossentropy',\n",
        "    optimizer='adam',\n",
        "    metrics=['AUC']\n",
        ")\n",
        "\n",
        "checkpoint = ModelCheckpoint(\n",
        "    'model.h5', \n",
        "    monitor='val_acc', \n",
        "    verbose=1, \n",
        "    save_best_only=True, \n",
        "    save_weights_only=False,\n",
        "    mode='auto'\n",
        ")\n",
        "\n",
        "history = model.fit(\n",
        "    x=x_train,\n",
        "    y=y_train,\n",
        "    batch_size=64,\n",
        "    epochs=20,\n",
        "    validation_split=0.1\n",
        ")\n"
      ],
      "execution_count": 8,
      "outputs": [
        {
          "output_type": "stream",
          "text": [
            "Epoch 1/20\n",
            "19/19 [==============================] - 826s 43s/step - loss: 0.5846 - auc: 0.8507 - val_loss: 1.4454 - val_auc: 0.7737\n",
            "Epoch 2/20\n",
            "19/19 [==============================] - 814s 43s/step - loss: 0.2743 - auc: 0.9532 - val_loss: 1.2301 - val_auc: 0.7951\n",
            "Epoch 3/20\n",
            "19/19 [==============================] - 814s 43s/step - loss: 0.1986 - auc: 0.9752 - val_loss: 3.8677 - val_auc: 0.7786\n",
            "Epoch 4/20\n",
            "19/19 [==============================] - 821s 43s/step - loss: 0.1249 - auc: 0.9897 - val_loss: 2.9610 - val_auc: 0.4979\n",
            "Epoch 5/20\n",
            "19/19 [==============================] - 820s 43s/step - loss: 0.1197 - auc: 0.9911 - val_loss: 1.7539 - val_auc: 0.8181\n",
            "Epoch 6/20\n",
            "19/19 [==============================] - 823s 43s/step - loss: 0.1057 - auc: 0.9930 - val_loss: 1.9639 - val_auc: 0.8245\n",
            "Epoch 7/20\n",
            "19/19 [==============================] - 827s 44s/step - loss: 0.1146 - auc: 0.9915 - val_loss: 1.7127 - val_auc: 0.7456\n",
            "Epoch 8/20\n",
            "19/19 [==============================] - 823s 43s/step - loss: 0.0816 - auc: 0.9957 - val_loss: 0.7455 - val_auc: 0.8782\n",
            "Epoch 9/20\n",
            "19/19 [==============================] - 826s 43s/step - loss: 0.0636 - auc: 0.9973 - val_loss: 1.8302 - val_auc: 0.6906\n",
            "Epoch 10/20\n",
            "19/19 [==============================] - 826s 43s/step - loss: 0.0886 - auc: 0.9946 - val_loss: 1.1495 - val_auc: 0.7166\n",
            "Epoch 11/20\n",
            "19/19 [==============================] - 822s 43s/step - loss: 0.0566 - auc: 0.9980 - val_loss: 2.4502 - val_auc: 0.4885\n",
            "Epoch 12/20\n",
            "19/19 [==============================] - 820s 43s/step - loss: 0.0355 - auc: 0.9986 - val_loss: 2.0164 - val_auc: 0.6757\n",
            "Epoch 13/20\n",
            "19/19 [==============================] - 825s 43s/step - loss: 0.0197 - auc: 0.9999 - val_loss: 1.7067 - val_auc: 0.8220\n",
            "Epoch 14/20\n",
            "19/19 [==============================] - 820s 43s/step - loss: 0.0562 - auc: 0.9967 - val_loss: 0.3846 - val_auc: 0.9403\n",
            "Epoch 15/20\n",
            "19/19 [==============================] - 820s 43s/step - loss: 0.0717 - auc: 0.9966 - val_loss: 1.1282 - val_auc: 0.8081\n",
            "Epoch 16/20\n",
            "19/19 [==============================] - 823s 43s/step - loss: 0.0587 - auc: 0.9971 - val_loss: 1.6413 - val_auc: 0.6966\n",
            "Epoch 17/20\n",
            "19/19 [==============================] - 822s 43s/step - loss: 0.0527 - auc: 0.9970 - val_loss: 2.1103 - val_auc: 0.6462\n",
            "Epoch 18/20\n",
            "19/19 [==============================] - 824s 43s/step - loss: 0.0335 - auc: 0.9994 - val_loss: 1.7428 - val_auc: 0.6652\n",
            "Epoch 19/20\n",
            "19/19 [==============================] - 824s 43s/step - loss: 0.0206 - auc: 0.9998 - val_loss: 0.3711 - val_auc: 0.9452\n",
            "Epoch 20/20\n",
            "19/19 [==============================] - 818s 43s/step - loss: 0.0177 - auc: 0.9990 - val_loss: 0.2513 - val_auc: 0.9734\n"
          ],
          "name": "stdout"
        }
      ]
    },
    {
      "cell_type": "code",
      "metadata": {
        "id": "48rIErpUjJdS"
      },
      "source": [
        "\n",
        "model.save_weights(\"densenet_weights.h5\")"
      ],
      "execution_count": 9,
      "outputs": []
    },
    {
      "cell_type": "code",
      "metadata": {
        "id": "1yn9ox-T3y4A",
        "outputId": "1f8376dd-5d7f-4905-f582-f5d7a7ea821b",
        "colab": {
          "base_uri": "https://localhost:8080/",
          "height": 34
        }
      },
      "source": [
        "!ls"
      ],
      "execution_count": null,
      "outputs": [
        {
          "output_type": "stream",
          "text": [
            "densenet_weights.h5  drive  sample_data\n"
          ],
          "name": "stdout"
        }
      ]
    },
    {
      "cell_type": "code",
      "metadata": {
        "id": "bxTulcX3sRy3",
        "outputId": "b9047fc2-605a-400a-a8eb-79ce54607d49",
        "colab": {
          "base_uri": "https://localhost:8080/",
          "height": 34
        }
      },
      "source": [
        "from google.colab import files\n",
        "files.download('densenet_weights.h5') "
      ],
      "execution_count": null,
      "outputs": [
        {
          "output_type": "display_data",
          "data": {
            "application/javascript": [
              "\n",
              "    async function download(id, filename, size) {\n",
              "      if (!google.colab.kernel.accessAllowed) {\n",
              "        return;\n",
              "      }\n",
              "      const div = document.createElement('div');\n",
              "      const label = document.createElement('label');\n",
              "      label.textContent = `Downloading \"${filename}\": `;\n",
              "      div.appendChild(label);\n",
              "      const progress = document.createElement('progress');\n",
              "      progress.max = size;\n",
              "      div.appendChild(progress);\n",
              "      document.body.appendChild(div);\n",
              "\n",
              "      const buffers = [];\n",
              "      let downloaded = 0;\n",
              "\n",
              "      const channel = await google.colab.kernel.comms.open(id);\n",
              "      // Send a message to notify the kernel that we're ready.\n",
              "      channel.send({})\n",
              "\n",
              "      for await (const message of channel.messages) {\n",
              "        // Send a message to notify the kernel that we're ready.\n",
              "        channel.send({})\n",
              "        if (message.buffers) {\n",
              "          for (const buffer of message.buffers) {\n",
              "            buffers.push(buffer);\n",
              "            downloaded += buffer.byteLength;\n",
              "            progress.value = downloaded;\n",
              "          }\n",
              "        }\n",
              "      }\n",
              "      const blob = new Blob(buffers, {type: 'application/binary'});\n",
              "      const a = document.createElement('a');\n",
              "      a.href = window.URL.createObjectURL(blob);\n",
              "      a.download = filename;\n",
              "      div.appendChild(a);\n",
              "      a.click();\n",
              "      div.remove();\n",
              "    }\n",
              "  "
            ],
            "text/plain": [
              "<IPython.core.display.Javascript object>"
            ]
          },
          "metadata": {
            "tags": []
          }
        },
        {
          "output_type": "display_data",
          "data": {
            "application/javascript": [
              "download(\"download_feaf9fe5-92cb-4527-9a00-5a65f90904aa\", \"densenet_weights.h5\", 28642304)"
            ],
            "text/plain": [
              "<IPython.core.display.Javascript object>"
            ]
          },
          "metadata": {
            "tags": []
          }
        }
      ]
    },
    {
      "cell_type": "code",
      "metadata": {
        "id": "Ln4TYjPStQPx",
        "outputId": "7d82ede0-7a07-4a74-ec71-faa91adf5569",
        "colab": {
          "base_uri": "https://localhost:8080/",
          "height": 34
        }
      },
      "source": [
        "x_test = np.load('/content/drive/My Drive/test_images.npy')\n",
        "x_test = np.repeat(x_test[..., np.newaxis], 3, -1)\n",
        "y_test = np.load('/content/drive/My Drive/test_labels.npy')\n",
        "x_test = x_test.astype('float32')\n",
        "x_test /= 255\n",
        "x_test.shape"
      ],
      "execution_count": 10,
      "outputs": [
        {
          "output_type": "execute_result",
          "data": {
            "text/plain": [
              "(98, 224, 224, 3)"
            ]
          },
          "metadata": {
            "tags": []
          },
          "execution_count": 10
        }
      ]
    },
    {
      "cell_type": "code",
      "metadata": {
        "id": "uJXxTyi_i1TF",
        "outputId": "a63e836e-f3d8-4bf4-a070-8c373928df2b",
        "colab": {
          "base_uri": "https://localhost:8080/",
          "height": 139
        }
      },
      "source": [
        "result = model.predict_classes(x_test)\n",
        "print(result)"
      ],
      "execution_count": 11,
      "outputs": [
        {
          "output_type": "stream",
          "text": [
            "WARNING:tensorflow:From <ipython-input-11-8cc46a0b60b8>:1: Sequential.predict_classes (from tensorflow.python.keras.engine.sequential) is deprecated and will be removed after 2021-01-01.\n",
            "Instructions for updating:\n",
            "Please use instead:* `np.argmax(model.predict(x), axis=-1)`,   if your model does multi-class classification   (e.g. if it uses a `softmax` last-layer activation).* `(model.predict(x) > 0.5).astype(\"int32\")`,   if your model does binary classification   (e.g. if it uses a `sigmoid` last-layer activation).\n",
            "[1 1 1 1 1 1 1 1 1 1 1 1 1 1 1 1 1 1 1 1 1 1 1 1 1 1 0 1 1 1 1 1 1 1 1 1 1\n",
            " 1 1 1 1 1 1 1 1 1 1 1 1 1 1 1 1 0 1 1 1 1 1 1 1 1 1 1 0 1 1 1 1 1 1 1 1 1\n",
            " 1 1 1 1 1 0 1 1 1 1 1 1 1 1 1 1 1 1 1 1 1 1 1 1]\n"
          ],
          "name": "stdout"
        }
      ]
    },
    {
      "cell_type": "code",
      "metadata": {
        "id": "cvZtrtNSi470",
        "outputId": "5b1f075c-bc4b-4261-a303-d1a95938fa55",
        "colab": {
          "base_uri": "https://localhost:8080/",
          "height": 68
        }
      },
      "source": [
        "sum1 = 0\n",
        "sum2 = 9\n",
        "for i in range(len(result)):\n",
        "  if(result[i] == y_test[i]):\n",
        "    sum1 += 1\n",
        "  else:\n",
        "    sum2 += 1\n",
        "print(sum1)\n",
        "print(sum2)\n",
        "sum1/len(result)\n"
      ],
      "execution_count": 14,
      "outputs": [
        {
          "output_type": "stream",
          "text": [
            "68\n",
            "39\n"
          ],
          "name": "stdout"
        },
        {
          "output_type": "execute_result",
          "data": {
            "text/plain": [
              "0.6938775510204082"
            ]
          },
          "metadata": {
            "tags": []
          },
          "execution_count": 14
        }
      ]
    },
    {
      "cell_type": "code",
      "metadata": {
        "id": "3yN5QJGjcIZE"
      },
      "source": [
        ""
      ],
      "execution_count": null,
      "outputs": []
    }
  ]
}